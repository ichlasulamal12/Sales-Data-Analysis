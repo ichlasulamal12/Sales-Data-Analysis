{
  "nbformat": 4,
  "nbformat_minor": 0,
  "metadata": {
    "colab": {
      "name": "Sales Analysis.ipynb",
      "provenance": []
    },
    "kernelspec": {
      "name": "python3",
      "display_name": "Python 3"
    },
    "language_info": {
      "name": "python"
    }
  },
  "cells": [
    {
      "cell_type": "markdown",
      "metadata": {
        "id": "ljdeBATq9iFK"
      },
      "source": [
        "# Sales Data Analysis\n",
        "Analyzing monthly product sales in 3 different ways. "
      ]
    },
    {
      "cell_type": "code",
      "metadata": {
        "colab": {
          "base_uri": "https://localhost:8080/"
        },
        "id": "KnnQ7DhJYNin",
        "outputId": "682ca889-3aba-48d9-e640-65b7bc68ec52"
      },
      "source": [
        "from google.colab import drive\n",
        "drive.mount(\"/content/gdrive\")"
      ],
      "execution_count": null,
      "outputs": [
        {
          "output_type": "stream",
          "name": "stdout",
          "text": [
            "Mounted at /content/gdrive\n"
          ]
        }
      ]
    },
    {
      "cell_type": "code",
      "metadata": {
        "id": "li1soHnjZWAe"
      },
      "source": [
        "import pandas as pd\n",
        "import matplotlib.pyplot as plt"
      ],
      "execution_count": null,
      "outputs": []
    },
    {
      "cell_type": "code",
      "metadata": {
        "id": "8MoBL_g5YOne"
      },
      "source": [
        "df = pd.read_csv('/content/gdrive/My Drive/Course/Hands on Data Science Project/Exercise Files 3/MonthlyProductSales.csv', \n",
        "                 encoding = 'ISO-8859-1')"
      ],
      "execution_count": null,
      "outputs": []
    },
    {
      "cell_type": "markdown",
      "metadata": {
        "id": "QC7Xrn2r9lQ8"
      },
      "source": [
        "## Inspecting Data"
      ]
    },
    {
      "cell_type": "code",
      "metadata": {
        "colab": {
          "base_uri": "https://localhost:8080/",
          "height": 202
        },
        "id": "6A3mwQpwZUk0",
        "outputId": "ef533fc9-f825-4216-ee9a-f13c543a0f1e"
      },
      "source": [
        "df.head()"
      ],
      "execution_count": null,
      "outputs": [
        {
          "output_type": "execute_result",
          "data": {
            "text/html": [
              "<div>\n",
              "<style scoped>\n",
              "    .dataframe tbody tr th:only-of-type {\n",
              "        vertical-align: middle;\n",
              "    }\n",
              "\n",
              "    .dataframe tbody tr th {\n",
              "        vertical-align: top;\n",
              "    }\n",
              "\n",
              "    .dataframe thead th {\n",
              "        text-align: right;\n",
              "    }\n",
              "</style>\n",
              "<table border=\"1\" class=\"dataframe\">\n",
              "  <thead>\n",
              "    <tr style=\"text-align: right;\">\n",
              "      <th></th>\n",
              "      <th>Month of Order Date</th>\n",
              "      <th>Product Name</th>\n",
              "      <th>Sales</th>\n",
              "    </tr>\n",
              "  </thead>\n",
              "  <tbody>\n",
              "    <tr>\n",
              "      <th>0</th>\n",
              "      <td>2013-05-01</td>\n",
              "      <td>1.7 Cubic Foot Compact \"Cube\" Office Refrigera...</td>\n",
              "      <td>208.0</td>\n",
              "    </tr>\n",
              "    <tr>\n",
              "      <th>1</th>\n",
              "      <td>2015-06-01</td>\n",
              "      <td>1.7 Cubic Foot Compact \"Cube\" Office Refrigera...</td>\n",
              "      <td>208.0</td>\n",
              "    </tr>\n",
              "    <tr>\n",
              "      <th>2</th>\n",
              "      <td>2013-11-01</td>\n",
              "      <td>1.7 Cubic Foot Compact \"Cube\" Office Refrigera...</td>\n",
              "      <td>333.0</td>\n",
              "    </tr>\n",
              "    <tr>\n",
              "      <th>3</th>\n",
              "      <td>2016-07-01</td>\n",
              "      <td>1.7 Cubic Foot Compact \"Cube\" Office Refrigera...</td>\n",
              "      <td>416.0</td>\n",
              "    </tr>\n",
              "    <tr>\n",
              "      <th>4</th>\n",
              "      <td>2016-11-01</td>\n",
              "      <td>1.7 Cubic Foot Compact \"Cube\" Office Refrigera...</td>\n",
              "      <td>500.0</td>\n",
              "    </tr>\n",
              "  </tbody>\n",
              "</table>\n",
              "</div>"
            ],
            "text/plain": [
              "  Month of Order Date                                       Product Name  Sales\n",
              "0          2013-05-01  1.7 Cubic Foot Compact \"Cube\" Office Refrigera...  208.0\n",
              "1          2015-06-01  1.7 Cubic Foot Compact \"Cube\" Office Refrigera...  208.0\n",
              "2          2013-11-01  1.7 Cubic Foot Compact \"Cube\" Office Refrigera...  333.0\n",
              "3          2016-07-01  1.7 Cubic Foot Compact \"Cube\" Office Refrigera...  416.0\n",
              "4          2016-11-01  1.7 Cubic Foot Compact \"Cube\" Office Refrigera...  500.0"
            ]
          },
          "metadata": {},
          "execution_count": 4
        }
      ]
    },
    {
      "cell_type": "code",
      "metadata": {
        "id": "4LzMYw92dEYE",
        "colab": {
          "base_uri": "https://localhost:8080/",
          "height": 202
        },
        "outputId": "834cda68-49da-459a-f6c8-c30dd96f7c68"
      },
      "source": [
        "df.tail()"
      ],
      "execution_count": 23,
      "outputs": [
        {
          "output_type": "execute_result",
          "data": {
            "text/html": [
              "<div>\n",
              "<style scoped>\n",
              "    .dataframe tbody tr th:only-of-type {\n",
              "        vertical-align: middle;\n",
              "    }\n",
              "\n",
              "    .dataframe tbody tr th {\n",
              "        vertical-align: top;\n",
              "    }\n",
              "\n",
              "    .dataframe thead th {\n",
              "        text-align: right;\n",
              "    }\n",
              "</style>\n",
              "<table border=\"1\" class=\"dataframe\">\n",
              "  <thead>\n",
              "    <tr style=\"text-align: right;\">\n",
              "      <th></th>\n",
              "      <th>Month of Order Date</th>\n",
              "      <th>Product Name</th>\n",
              "      <th>Sales</th>\n",
              "    </tr>\n",
              "  </thead>\n",
              "  <tbody>\n",
              "    <tr>\n",
              "      <th>9247</th>\n",
              "      <td>2016-06-01</td>\n",
              "      <td>Zipper Ring Binder Pockets</td>\n",
              "      <td>6.0</td>\n",
              "    </tr>\n",
              "    <tr>\n",
              "      <th>9248</th>\n",
              "      <td>2016-07-01</td>\n",
              "      <td>Zipper Ring Binder Pockets</td>\n",
              "      <td>10.0</td>\n",
              "    </tr>\n",
              "    <tr>\n",
              "      <th>9249</th>\n",
              "      <td>2013-04-01</td>\n",
              "      <td>Zipper Ring Binder Pockets</td>\n",
              "      <td>14.0</td>\n",
              "    </tr>\n",
              "    <tr>\n",
              "      <th>9250</th>\n",
              "      <td>2016-12-01</td>\n",
              "      <td>Zipper Ring Binder Pockets</td>\n",
              "      <td>15.0</td>\n",
              "    </tr>\n",
              "    <tr>\n",
              "      <th>9251</th>\n",
              "      <td>2013-07-01</td>\n",
              "      <td>Zipper Ring Binder Pockets</td>\n",
              "      <td>16.0</td>\n",
              "    </tr>\n",
              "  </tbody>\n",
              "</table>\n",
              "</div>"
            ],
            "text/plain": [
              "     Month of Order Date                Product Name  Sales\n",
              "9247          2016-06-01  Zipper Ring Binder Pockets    6.0\n",
              "9248          2016-07-01  Zipper Ring Binder Pockets   10.0\n",
              "9249          2013-04-01  Zipper Ring Binder Pockets   14.0\n",
              "9250          2016-12-01  Zipper Ring Binder Pockets   15.0\n",
              "9251          2013-07-01  Zipper Ring Binder Pockets   16.0"
            ]
          },
          "metadata": {},
          "execution_count": 23
        }
      ]
    },
    {
      "cell_type": "code",
      "metadata": {
        "id": "8ChOZEK6dEYE",
        "colab": {
          "base_uri": "https://localhost:8080/",
          "height": 294
        },
        "outputId": "b6ea8731-9d3e-4e9d-f23c-6e9ad770e98b"
      },
      "source": [
        "df.describe()"
      ],
      "execution_count": 24,
      "outputs": [
        {
          "output_type": "execute_result",
          "data": {
            "text/html": [
              "<div>\n",
              "<style scoped>\n",
              "    .dataframe tbody tr th:only-of-type {\n",
              "        vertical-align: middle;\n",
              "    }\n",
              "\n",
              "    .dataframe tbody tr th {\n",
              "        vertical-align: top;\n",
              "    }\n",
              "\n",
              "    .dataframe thead th {\n",
              "        text-align: right;\n",
              "    }\n",
              "</style>\n",
              "<table border=\"1\" class=\"dataframe\">\n",
              "  <thead>\n",
              "    <tr style=\"text-align: right;\">\n",
              "      <th></th>\n",
              "      <th>Sales</th>\n",
              "    </tr>\n",
              "  </thead>\n",
              "  <tbody>\n",
              "    <tr>\n",
              "      <th>count</th>\n",
              "      <td>9252.000000</td>\n",
              "    </tr>\n",
              "    <tr>\n",
              "      <th>mean</th>\n",
              "      <td>248.308798</td>\n",
              "    </tr>\n",
              "    <tr>\n",
              "      <th>std</th>\n",
              "      <td>669.441779</td>\n",
              "    </tr>\n",
              "    <tr>\n",
              "      <th>min</th>\n",
              "      <td>0.000000</td>\n",
              "    </tr>\n",
              "    <tr>\n",
              "      <th>25%</th>\n",
              "      <td>18.000000</td>\n",
              "    </tr>\n",
              "    <tr>\n",
              "      <th>50%</th>\n",
              "      <td>60.000000</td>\n",
              "    </tr>\n",
              "    <tr>\n",
              "      <th>75%</th>\n",
              "      <td>222.000000</td>\n",
              "    </tr>\n",
              "    <tr>\n",
              "      <th>max</th>\n",
              "      <td>22638.000000</td>\n",
              "    </tr>\n",
              "  </tbody>\n",
              "</table>\n",
              "</div>"
            ],
            "text/plain": [
              "              Sales\n",
              "count   9252.000000\n",
              "mean     248.308798\n",
              "std      669.441779\n",
              "min        0.000000\n",
              "25%       18.000000\n",
              "50%       60.000000\n",
              "75%      222.000000\n",
              "max    22638.000000"
            ]
          },
          "metadata": {},
          "execution_count": 24
        }
      ]
    },
    {
      "cell_type": "code",
      "metadata": {
        "id": "jMUgUZbxdEYF",
        "colab": {
          "base_uri": "https://localhost:8080/"
        },
        "outputId": "53b42658-7641-4aeb-8ef3-542b0f3b49c7"
      },
      "source": [
        "df.info()"
      ],
      "execution_count": 25,
      "outputs": [
        {
          "output_type": "stream",
          "name": "stdout",
          "text": [
            "<class 'pandas.core.frame.DataFrame'>\n",
            "RangeIndex: 9252 entries, 0 to 9251\n",
            "Data columns (total 3 columns):\n",
            " #   Column               Non-Null Count  Dtype  \n",
            "---  ------               --------------  -----  \n",
            " 0   Month of Order Date  9252 non-null   object \n",
            " 1   Product Name         9252 non-null   object \n",
            " 2   Sales                9252 non-null   float64\n",
            "dtypes: float64(1), object(2)\n",
            "memory usage: 217.0+ KB\n"
          ]
        }
      ]
    },
    {
      "cell_type": "code",
      "metadata": {
        "colab": {
          "base_uri": "https://localhost:8080/"
        },
        "id": "B3CQ1A6c2kL2",
        "outputId": "7678622f-2a73-4103-b5ac-42867802c93c"
      },
      "source": [
        "s = df['Product Name']\n",
        "\n",
        "s.value_counts(dropna = False)"
      ],
      "execution_count": null,
      "outputs": [
        {
          "output_type": "execute_result",
          "data": {
            "text/plain": [
              "Easy-staple paper                                                   32\n",
              "Staple envelope                                                     30\n",
              "Staples                                                             30\n",
              "Staples in misc. colors                                             18\n",
              "Storex Dura Pro Binders                                             14\n",
              "                                                                    ..\n",
              "Avery Hi-Liter Pen Style Six-Color Fluorescent Set                   1\n",
              "Hewlett-Packard Desktjet 6988DT Refurbished Printer                  1\n",
              "Eureka Hand Vacuum, Bagless                                          1\n",
              "Epson WorkForce WF-2530 All-in-One Printer, Copier Scanner           1\n",
              "Eureka Disposable Bags for Sanitaire Vibra Groomer I Upright Vac     1\n",
              "Name: Product Name, Length: 1850, dtype: int64"
            ]
          },
          "metadata": {},
          "execution_count": 7
        }
      ]
    },
    {
      "cell_type": "markdown",
      "metadata": {
        "id": "tjpkbEcq9woU"
      },
      "source": [
        "## Aggregating Data"
      ]
    },
    {
      "cell_type": "code",
      "metadata": {
        "colab": {
          "base_uri": "https://localhost:8080/"
        },
        "id": "zWhPmdfqZnlv",
        "outputId": "e427383c-f621-414a-eef6-e5d3b0fa2e7e"
      },
      "source": [
        "df['Month of Order Date'].str[:4]"
      ],
      "execution_count": null,
      "outputs": [
        {
          "output_type": "execute_result",
          "data": {
            "text/plain": [
              "0       2013\n",
              "1       2015\n",
              "2       2013\n",
              "3       2016\n",
              "4       2016\n",
              "        ... \n",
              "9247    2016\n",
              "9248    2016\n",
              "9249    2013\n",
              "9250    2016\n",
              "9251    2013\n",
              "Name: Month of Order Date, Length: 9252, dtype: object"
            ]
          },
          "metadata": {},
          "execution_count": 14
        }
      ]
    },
    {
      "cell_type": "code",
      "metadata": {
        "colab": {
          "base_uri": "https://localhost:8080/",
          "height": 202
        },
        "id": "9_Ali2teZv2u",
        "outputId": "82865aec-267d-4e01-a6f7-7b4148142597"
      },
      "source": [
        "df.groupby(df[\"Month of Order Date\"].str[:4]).describe().reset_index().rename(columns={\"Month of Order Date\" : \"Year\"})"
      ],
      "execution_count": null,
      "outputs": [
        {
          "output_type": "execute_result",
          "data": {
            "text/html": [
              "<div>\n",
              "<style scoped>\n",
              "    .dataframe tbody tr th:only-of-type {\n",
              "        vertical-align: middle;\n",
              "    }\n",
              "\n",
              "    .dataframe tbody tr th {\n",
              "        vertical-align: top;\n",
              "    }\n",
              "\n",
              "    .dataframe thead tr th {\n",
              "        text-align: left;\n",
              "    }\n",
              "</style>\n",
              "<table border=\"1\" class=\"dataframe\">\n",
              "  <thead>\n",
              "    <tr>\n",
              "      <th></th>\n",
              "      <th>Year</th>\n",
              "      <th colspan=\"8\" halign=\"left\">Sales</th>\n",
              "    </tr>\n",
              "    <tr>\n",
              "      <th></th>\n",
              "      <th></th>\n",
              "      <th>count</th>\n",
              "      <th>mean</th>\n",
              "      <th>std</th>\n",
              "      <th>min</th>\n",
              "      <th>25%</th>\n",
              "      <th>50%</th>\n",
              "      <th>75%</th>\n",
              "      <th>max</th>\n",
              "    </tr>\n",
              "  </thead>\n",
              "  <tbody>\n",
              "    <tr>\n",
              "      <th>0</th>\n",
              "      <td>2013</td>\n",
              "      <td>1875.0</td>\n",
              "      <td>258.267200</td>\n",
              "      <td>803.537374</td>\n",
              "      <td>1.0</td>\n",
              "      <td>17.0</td>\n",
              "      <td>55.0</td>\n",
              "      <td>224.00</td>\n",
              "      <td>22638.0</td>\n",
              "    </tr>\n",
              "    <tr>\n",
              "      <th>1</th>\n",
              "      <td>2014</td>\n",
              "      <td>1968.0</td>\n",
              "      <td>239.107215</td>\n",
              "      <td>521.330289</td>\n",
              "      <td>1.0</td>\n",
              "      <td>19.0</td>\n",
              "      <td>62.0</td>\n",
              "      <td>225.25</td>\n",
              "      <td>7312.0</td>\n",
              "    </tr>\n",
              "    <tr>\n",
              "      <th>2</th>\n",
              "      <td>2015</td>\n",
              "      <td>2400.0</td>\n",
              "      <td>253.550833</td>\n",
              "      <td>711.795040</td>\n",
              "      <td>1.0</td>\n",
              "      <td>19.0</td>\n",
              "      <td>58.5</td>\n",
              "      <td>222.00</td>\n",
              "      <td>17500.0</td>\n",
              "    </tr>\n",
              "    <tr>\n",
              "      <th>3</th>\n",
              "      <td>2016</td>\n",
              "      <td>3009.0</td>\n",
              "      <td>243.940512</td>\n",
              "      <td>627.741547</td>\n",
              "      <td>0.0</td>\n",
              "      <td>18.0</td>\n",
              "      <td>60.0</td>\n",
              "      <td>221.00</td>\n",
              "      <td>14000.0</td>\n",
              "    </tr>\n",
              "  </tbody>\n",
              "</table>\n",
              "</div>"
            ],
            "text/plain": [
              "   Year   Sales                                                          \n",
              "          count        mean         std  min   25%   50%     75%      max\n",
              "0  2013  1875.0  258.267200  803.537374  1.0  17.0  55.0  224.00  22638.0\n",
              "1  2014  1968.0  239.107215  521.330289  1.0  19.0  62.0  225.25   7312.0\n",
              "2  2015  2400.0  253.550833  711.795040  1.0  19.0  58.5  222.00  17500.0\n",
              "3  2016  3009.0  243.940512  627.741547  0.0  18.0  60.0  221.00  14000.0"
            ]
          },
          "metadata": {},
          "execution_count": 13
        }
      ]
    },
    {
      "cell_type": "code",
      "metadata": {
        "id": "DBlVMq4m3s72"
      },
      "source": [
        "yearly_product_sales = df.groupby([df[\"Month of Order Date\"].str[:4], \"Product Name\"]).sum().reset_index()"
      ],
      "execution_count": null,
      "outputs": []
    },
    {
      "cell_type": "code",
      "metadata": {
        "colab": {
          "base_uri": "https://localhost:8080/",
          "height": 415
        },
        "id": "Vqdd3XoE5m12",
        "outputId": "3cfb1f32-4b2a-4e35-ffdd-37ae878f1a9c"
      },
      "source": [
        "yearly_product_sales.rename(columns={\"Month of Order Date\" : \"Year\"})"
      ],
      "execution_count": null,
      "outputs": [
        {
          "output_type": "execute_result",
          "data": {
            "text/html": [
              "<div>\n",
              "<style scoped>\n",
              "    .dataframe tbody tr th:only-of-type {\n",
              "        vertical-align: middle;\n",
              "    }\n",
              "\n",
              "    .dataframe tbody tr th {\n",
              "        vertical-align: top;\n",
              "    }\n",
              "\n",
              "    .dataframe thead th {\n",
              "        text-align: right;\n",
              "    }\n",
              "</style>\n",
              "<table border=\"1\" class=\"dataframe\">\n",
              "  <thead>\n",
              "    <tr style=\"text-align: right;\">\n",
              "      <th></th>\n",
              "      <th>Year</th>\n",
              "      <th>Product Name</th>\n",
              "      <th>Sales</th>\n",
              "    </tr>\n",
              "  </thead>\n",
              "  <tbody>\n",
              "    <tr>\n",
              "      <th>0</th>\n",
              "      <td>2013</td>\n",
              "      <td>#10 White Business Envelopes,4 1/8 x 9 1/2</td>\n",
              "      <td>156.0</td>\n",
              "    </tr>\n",
              "    <tr>\n",
              "      <th>1</th>\n",
              "      <td>2013</td>\n",
              "      <td>#10- 4 1/8\" x 9 1/2\" Recycled Envelopes</td>\n",
              "      <td>63.0</td>\n",
              "    </tr>\n",
              "    <tr>\n",
              "      <th>2</th>\n",
              "      <td>2013</td>\n",
              "      <td>#10- 4 1/8\" x 9 1/2\" Security-Tint Envelopes</td>\n",
              "      <td>23.0</td>\n",
              "    </tr>\n",
              "    <tr>\n",
              "      <th>3</th>\n",
              "      <td>2013</td>\n",
              "      <td>1.7 Cubic Foot Compact \"Cube\" Office Refrigera...</td>\n",
              "      <td>541.0</td>\n",
              "    </tr>\n",
              "    <tr>\n",
              "      <th>4</th>\n",
              "      <td>2013</td>\n",
              "      <td>1/4 Fold Party Design Invitations &amp; White Enve...</td>\n",
              "      <td>6.0</td>\n",
              "    </tr>\n",
              "    <tr>\n",
              "      <th>...</th>\n",
              "      <td>...</td>\n",
              "      <td>...</td>\n",
              "      <td>...</td>\n",
              "    </tr>\n",
              "    <tr>\n",
              "      <th>5321</th>\n",
              "      <td>2016</td>\n",
              "      <td>iKross Bluetooth Portable Keyboard + Cell Phon...</td>\n",
              "      <td>67.0</td>\n",
              "    </tr>\n",
              "    <tr>\n",
              "      <th>5322</th>\n",
              "      <td>2016</td>\n",
              "      <td>iOttie HLCRIO102 Car Mount</td>\n",
              "      <td>120.0</td>\n",
              "    </tr>\n",
              "    <tr>\n",
              "      <th>5323</th>\n",
              "      <td>2016</td>\n",
              "      <td>iOttie XL Car Mount</td>\n",
              "      <td>224.0</td>\n",
              "    </tr>\n",
              "    <tr>\n",
              "      <th>5324</th>\n",
              "      <td>2016</td>\n",
              "      <td>invisibleSHIELD by ZAGG Smudge-Free Screen Pro...</td>\n",
              "      <td>205.0</td>\n",
              "    </tr>\n",
              "    <tr>\n",
              "      <th>5325</th>\n",
              "      <td>2016</td>\n",
              "      <td>netTALK DUO VoIP Telephone Service</td>\n",
              "      <td>168.0</td>\n",
              "    </tr>\n",
              "  </tbody>\n",
              "</table>\n",
              "<p>5326 rows × 3 columns</p>\n",
              "</div>"
            ],
            "text/plain": [
              "      Year                                       Product Name  Sales\n",
              "0     2013         #10 White Business Envelopes,4 1/8 x 9 1/2  156.0\n",
              "1     2013            #10- 4 1/8\" x 9 1/2\" Recycled Envelopes   63.0\n",
              "2     2013       #10- 4 1/8\" x 9 1/2\" Security-Tint Envelopes   23.0\n",
              "3     2013  1.7 Cubic Foot Compact \"Cube\" Office Refrigera...  541.0\n",
              "4     2013  1/4 Fold Party Design Invitations & White Enve...    6.0\n",
              "...    ...                                                ...    ...\n",
              "5321  2016  iKross Bluetooth Portable Keyboard + Cell Phon...   67.0\n",
              "5322  2016                         iOttie HLCRIO102 Car Mount  120.0\n",
              "5323  2016                                iOttie XL Car Mount  224.0\n",
              "5324  2016  invisibleSHIELD by ZAGG Smudge-Free Screen Pro...  205.0\n",
              "5325  2016                 netTALK DUO VoIP Telephone Service  168.0\n",
              "\n",
              "[5326 rows x 3 columns]"
            ]
          },
          "metadata": {},
          "execution_count": 15
        }
      ]
    },
    {
      "cell_type": "code",
      "metadata": {
        "colab": {
          "base_uri": "https://localhost:8080/",
          "height": 415
        },
        "id": "35olvE7E5twP",
        "outputId": "0d7a65c2-8646-4bbd-8f18-f4689812b951"
      },
      "source": [
        "df.groupby(\"Product Name\").sum().reset_index()"
      ],
      "execution_count": null,
      "outputs": [
        {
          "output_type": "execute_result",
          "data": {
            "text/html": [
              "<div>\n",
              "<style scoped>\n",
              "    .dataframe tbody tr th:only-of-type {\n",
              "        vertical-align: middle;\n",
              "    }\n",
              "\n",
              "    .dataframe tbody tr th {\n",
              "        vertical-align: top;\n",
              "    }\n",
              "\n",
              "    .dataframe thead th {\n",
              "        text-align: right;\n",
              "    }\n",
              "</style>\n",
              "<table border=\"1\" class=\"dataframe\">\n",
              "  <thead>\n",
              "    <tr style=\"text-align: right;\">\n",
              "      <th></th>\n",
              "      <th>Product Name</th>\n",
              "      <th>Sales</th>\n",
              "    </tr>\n",
              "  </thead>\n",
              "  <tbody>\n",
              "    <tr>\n",
              "      <th>0</th>\n",
              "      <td>\"While you Were Out\" Message Book, One Form pe...</td>\n",
              "      <td>25.0</td>\n",
              "    </tr>\n",
              "    <tr>\n",
              "      <th>1</th>\n",
              "      <td>#10 Gummed Flap White Envelopes, 100/Box</td>\n",
              "      <td>42.0</td>\n",
              "    </tr>\n",
              "    <tr>\n",
              "      <th>2</th>\n",
              "      <td>#10 Self-Seal White Envelopes</td>\n",
              "      <td>109.0</td>\n",
              "    </tr>\n",
              "    <tr>\n",
              "      <th>3</th>\n",
              "      <td>#10 White Business Envelopes,4 1/8 x 9 1/2</td>\n",
              "      <td>489.0</td>\n",
              "    </tr>\n",
              "    <tr>\n",
              "      <th>4</th>\n",
              "      <td>#10- 4 1/8\" x 9 1/2\" Recycled Envelopes</td>\n",
              "      <td>286.0</td>\n",
              "    </tr>\n",
              "    <tr>\n",
              "      <th>...</th>\n",
              "      <td>...</td>\n",
              "      <td>...</td>\n",
              "    </tr>\n",
              "    <tr>\n",
              "      <th>1845</th>\n",
              "      <td>iKross Bluetooth Portable Keyboard + Cell Phon...</td>\n",
              "      <td>479.0</td>\n",
              "    </tr>\n",
              "    <tr>\n",
              "      <th>1846</th>\n",
              "      <td>iOttie HLCRIO102 Car Mount</td>\n",
              "      <td>216.0</td>\n",
              "    </tr>\n",
              "    <tr>\n",
              "      <th>1847</th>\n",
              "      <td>iOttie XL Car Mount</td>\n",
              "      <td>224.0</td>\n",
              "    </tr>\n",
              "    <tr>\n",
              "      <th>1848</th>\n",
              "      <td>invisibleSHIELD by ZAGG Smudge-Free Screen Pro...</td>\n",
              "      <td>442.0</td>\n",
              "    </tr>\n",
              "    <tr>\n",
              "      <th>1849</th>\n",
              "      <td>netTALK DUO VoIP Telephone Service</td>\n",
              "      <td>1113.0</td>\n",
              "    </tr>\n",
              "  </tbody>\n",
              "</table>\n",
              "<p>1850 rows × 2 columns</p>\n",
              "</div>"
            ],
            "text/plain": [
              "                                           Product Name   Sales\n",
              "0     \"While you Were Out\" Message Book, One Form pe...    25.0\n",
              "1              #10 Gummed Flap White Envelopes, 100/Box    42.0\n",
              "2                         #10 Self-Seal White Envelopes   109.0\n",
              "3            #10 White Business Envelopes,4 1/8 x 9 1/2   489.0\n",
              "4               #10- 4 1/8\" x 9 1/2\" Recycled Envelopes   286.0\n",
              "...                                                 ...     ...\n",
              "1845  iKross Bluetooth Portable Keyboard + Cell Phon...   479.0\n",
              "1846                         iOttie HLCRIO102 Car Mount   216.0\n",
              "1847                                iOttie XL Car Mount   224.0\n",
              "1848  invisibleSHIELD by ZAGG Smudge-Free Screen Pro...   442.0\n",
              "1849                 netTALK DUO VoIP Telephone Service  1113.0\n",
              "\n",
              "[1850 rows x 2 columns]"
            ]
          },
          "metadata": {},
          "execution_count": 16
        }
      ]
    },
    {
      "cell_type": "code",
      "metadata": {
        "id": "0DV3NmGQ5-Nw"
      },
      "source": [
        "yearly_product_sales.to_csv(\"/content/gdrive/My Drive/Course/Hands on Data Science Project/Exercise Files 3/yearly_product_sales.csv\", header=True, index=False, encoding=\"utf-8\")"
      ],
      "execution_count": null,
      "outputs": []
    },
    {
      "cell_type": "code",
      "metadata": {
        "id": "pXpvIhHO6bqi"
      },
      "source": [
        "yearly_product_sales.to_excel(\"/content/gdrive/My Drive/Course/Hands on Data Science Project/Exercise Files 3/yearly_product_sales.xlsx\", header=True, index=False)"
      ],
      "execution_count": null,
      "outputs": []
    },
    {
      "cell_type": "markdown",
      "metadata": {
        "id": "6LkD8aMI93aC"
      },
      "source": [
        "## Visualizing Data"
      ]
    },
    {
      "cell_type": "code",
      "metadata": {
        "colab": {
          "base_uri": "https://localhost:8080/",
          "height": 297
        },
        "id": "fsA-Haw36xC-",
        "outputId": "51c37957-1326-403b-9626-dd9708eafe10"
      },
      "source": [
        "df.groupby(df[\"Month of Order Date\"]).sum().plot()"
      ],
      "execution_count": null,
      "outputs": [
        {
          "output_type": "execute_result",
          "data": {
            "text/plain": [
              "<matplotlib.axes._subplots.AxesSubplot at 0x7f089f3ad5d0>"
            ]
          },
          "metadata": {},
          "execution_count": 20
        },
        {
          "output_type": "display_data",
          "data": {
            "image/png": "[encoded data removed]",
            "text/plain": [
              "<Figure size 432x288 with 1 Axes>"
            ]
          },
          "metadata": {
            "needs_background": "light"
          }
        }
      ]
    },
    {
      "cell_type": "code",
      "metadata": {
        "id": "ehDkZi277You",
        "colab": {
          "base_uri": "https://localhost:8080/",
          "height": 283
        },
        "outputId": "8f2a3693-ece8-4ac0-f19f-790d86853426"
      },
      "source": [
        "df.groupby(df[\"Month of Order Date\"]).sum().plot(kind=\"hist\", bins=10)"
      ],
      "execution_count": 21,
      "outputs": [
        {
          "output_type": "execute_result",
          "data": {
            "text/plain": [
              "<matplotlib.axes._subplots.AxesSubplot at 0x7f089f433610>"
            ]
          },
          "metadata": {},
          "execution_count": 21
        },
        {
          "output_type": "display_data",
          "data": {
            "image/png": "[encoded data removed]",
            "text/plain": [
              "<Figure size 432x288 with 1 Axes>"
            ]
          },
          "metadata": {
            "needs_background": "light"
          }
        }
      ]
    },
    {
      "cell_type": "code",
      "metadata": {
        "colab": {
          "base_uri": "https://localhost:8080/",
          "height": 283
        },
        "id": "eLHSNysM8FJm",
        "outputId": "a1efef26-f14d-4dc5-a0c8-073afc86a07a"
      },
      "source": [
        "df.groupby(df[\"Product Name\"]).sum().sort_values(by=\"Sales\").tail(10).plot(kind=\"barh\")"
      ],
      "execution_count": 22,
      "outputs": [
        {
          "output_type": "execute_result",
          "data": {
            "text/plain": [
              "<matplotlib.axes._subplots.AxesSubplot at 0x7f089f363e90>"
            ]
          },
          "metadata": {},
          "execution_count": 22
        },
        {
          "output_type": "display_data",
          "data": {
            "image/png": "[encoded data removed]",
            "text/plain": [
              "<Figure size 432x288 with 1 Axes>"
            ]
          },
          "metadata": {
            "needs_background": "light"
          }
        }
      ]
    }
  ]
}